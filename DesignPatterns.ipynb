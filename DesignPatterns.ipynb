{
 "cells": [
  {
   "cell_type": "code",
   "execution_count": 2,
   "metadata": {},
   "outputs": [],
   "source": [
    "from abc import ABC, abstractmethod"
   ]
  },
  {
   "cell_type": "markdown",
   "metadata": {},
   "source": [
    "#### Polymorphism"
   ]
  },
  {
   "cell_type": "code",
   "execution_count": 3,
   "metadata": {},
   "outputs": [],
   "source": [
    "class UIcontrol(ABC):\n",
    "    @abstractmethod\n",
    "    def size(self):\n",
    "        pass\n",
    "    @abstractmethod\n",
    "    def isSelected(self):\n",
    "        pass"
   ]
  },
  {
   "cell_type": "code",
   "execution_count": 4,
   "metadata": {},
   "outputs": [],
   "source": [
    "class TextBox(UIcontrol):\n",
    "    def size(self):\n",
    "        print(\"TextBox size\")\n",
    "    def isSelected(self):\n",
    "        print(\"TextBox Selected\")"
   ]
  },
  {
   "cell_type": "code",
   "execution_count": 5,
   "metadata": {},
   "outputs": [],
   "source": [
    "class CheckBox(UIcontrol):\n",
    "    def size(self):\n",
    "        print(\"CheckBox size\")\n",
    "    def isSelected(self):\n",
    "        print(\"CheckBox Selected\")"
   ]
  },
  {
   "cell_type": "code",
   "execution_count": 6,
   "metadata": {},
   "outputs": [],
   "source": [
    "def drawUIcontrol(UIcontrol):\n",
    "    UIcontrol.size()\n",
    "    UIcontrol.isSelected()"
   ]
  },
  {
   "cell_type": "code",
   "execution_count": 7,
   "metadata": {},
   "outputs": [
    {
     "name": "stdout",
     "output_type": "stream",
     "text": [
      "TextBox size\n",
      "TextBox Selected\n"
     ]
    }
   ],
   "source": [
    "drawUIcontrol(TextBox())"
   ]
  },
  {
   "cell_type": "markdown",
   "metadata": {},
   "source": [
    "#### Memento Pattern"
   ]
  },
  {
   "cell_type": "code",
   "execution_count": 8,
   "metadata": {},
   "outputs": [],
   "source": [
    "class Editor():\n",
    "    def __init__(self):\n",
    "        self.__history = History()\n",
    "    def setContent(self, content):\n",
    "        self.__content = content\n",
    "        self.__history.push(self.__createState(content))\n",
    "    def getContent(self):\n",
    "        return self.__content\n",
    "    def addContent(self,content):\n",
    "        self.__content += content\n",
    "    \n",
    "    def __createState(self, content):\n",
    "        return EditorState(content)\n",
    "    def __restore(self, EditorState):\n",
    "        self.__content = EditorState.getContent()\n",
    "    \n",
    "    def undo(self):\n",
    "        self.__history.pop()\n",
    "        self.__restore(self.__history.getLastState())\n",
    "        "
   ]
  },
  {
   "cell_type": "code",
   "execution_count": 9,
   "metadata": {},
   "outputs": [],
   "source": [
    "class EditorState():\n",
    "    def __init__(self, content):\n",
    "        self.__content = content\n",
    "    def getContent(self):\n",
    "        return self.__content"
   ]
  },
  {
   "cell_type": "code",
   "execution_count": 10,
   "metadata": {},
   "outputs": [],
   "source": [
    "class History():\n",
    "    def __init__(self):\n",
    "        self.states = []\n",
    "    def push(self, EditorState):\n",
    "        self.states.append(EditorState)\n",
    "    def pop(self):\n",
    "        return self.states.pop(-1)\n",
    "    def getLastState(self):\n",
    "        return self.states[-1]"
   ]
  },
  {
   "cell_type": "code",
   "execution_count": 11,
   "metadata": {},
   "outputs": [
    {
     "name": "stdout",
     "output_type": "stream",
     "text": [
      "Statement 1\n",
      "Statement 2\n",
      "Statement 3\n",
      "After undo :  Statement 2\n",
      "After 2nd undo :  Statement 1\n",
      "Statement 1 Adding 1\n"
     ]
    },
    {
     "data": {
      "text/plain": [
       "'Statement 1 Adding 1'"
      ]
     },
     "execution_count": 11,
     "metadata": {},
     "output_type": "execute_result"
    }
   ],
   "source": [
    "a = Editor()\n",
    "a.setContent(\"Statement 1\")\n",
    "print(a.getContent())\n",
    "a.setContent(\"Statement 2\")\n",
    "print(a.getContent())\n",
    "a.setContent(\"Statement 3\")\n",
    "print(a.getContent())\n",
    "a.undo()\n",
    "print(\"After undo : \",a.getContent())\n",
    "a.undo()\n",
    "print(\"After 2nd undo : \",a.getContent())\n",
    "a.addContent(\" Adding 1\")\n",
    "print(a.getContent())"
   ]
  },
  {
   "cell_type": "markdown",
   "metadata": {},
   "source": [
    "#### States Pattern "
   ]
  },
  {
   "cell_type": "code",
   "execution_count": null,
   "metadata": {},
   "outputs": [],
   "source": []
  }
 ],
 "metadata": {
  "kernelspec": {
   "display_name": "Python 3",
   "language": "python",
   "name": "python3"
  },
  "language_info": {
   "codemirror_mode": {
    "name": "ipython",
    "version": 3
   },
   "file_extension": ".py",
   "mimetype": "text/x-python",
   "name": "python",
   "nbconvert_exporter": "python",
   "pygments_lexer": "ipython3",
   "version": "3.7.4"
  }
 },
 "nbformat": 4,
 "nbformat_minor": 2
}
