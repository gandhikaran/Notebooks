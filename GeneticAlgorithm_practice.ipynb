{
 "cells": [
  {
   "cell_type": "code",
   "execution_count": 672,
   "metadata": {},
   "outputs": [],
   "source": [
    "import numpy as np\n",
    "import random"
   ]
  },
  {
   "cell_type": "markdown",
   "metadata": {},
   "source": [
    "#### Fitness Function"
   ]
  },
  {
   "cell_type": "code",
   "execution_count": 673,
   "metadata": {},
   "outputs": [],
   "source": [
    "def fitness(np):\n",
    "    f=0\n",
    "    for i in np:\n",
    "        f=f+i\n",
    "    return f"
   ]
  },
  {
   "cell_type": "code",
   "execution_count": 674,
   "metadata": {},
   "outputs": [],
   "source": [
    "pop_size=6\n",
    "ch_size=4\n",
    "min_value=0\n",
    "max_value=30\n",
    "pc=0.4 #Crossover Rate\n",
    "pm = 0.1 #Mutation Rate"
   ]
  },
  {
   "cell_type": "markdown",
   "metadata": {},
   "source": [
    "#### Initialization"
   ]
  },
  {
   "cell_type": "code",
   "execution_count": 675,
   "metadata": {},
   "outputs": [
    {
     "name": "stdout",
     "output_type": "stream",
     "text": [
      "[[27 21 26 17]\n",
      " [21  6 10 22]\n",
      " [20 22  7 20]\n",
      " [14 14 24 12]\n",
      " [12 28 19 25]\n",
      " [29 12 17 14]]\n"
     ]
    }
   ],
   "source": [
    "chromosomes = np.random.randint(min_value,max_value,size=(pop_size,ch_size))\n",
    "print(chromosomes)"
   ]
  },
  {
   "cell_type": "markdown",
   "metadata": {},
   "source": [
    "#### Fitness Evaluation"
   ]
  },
  {
   "cell_type": "code",
   "execution_count": 676,
   "metadata": {},
   "outputs": [
    {
     "name": "stdout",
     "output_type": "stream",
     "text": [
      "[91 59 69 64 84 72]\n"
     ]
    }
   ],
   "source": [
    "f=np.zeros(pop_size,dtype='int16')\n",
    "#fit=[]\n",
    "for i in range(0,6):\n",
    "    #fit.append(fitness(ini[i]))\n",
    "    f[i]=fitness(chromosomes[i])\n",
    "print(f)"
   ]
  },
  {
   "cell_type": "code",
   "execution_count": 677,
   "metadata": {
    "scrolled": true
   },
   "outputs": [
    {
     "name": "stdout",
     "output_type": "stream",
     "text": [
      "[0.01086957 0.01666667 0.01428571 0.01538462 0.01176471 0.01369863]\n",
      "[0.13148154 0.20160502 0.17280431 0.18609695 0.14230943 0.16570276]\n",
      "1.0\n",
      "[0.13148154 0.33308656 0.50589087 0.69198781 0.83429724 1.        ]\n",
      "[0.78730952 0.3837846  0.59608264 0.05406084 0.67862534 0.7291427 ]\n"
     ]
    }
   ],
   "source": [
    "inv_f = np.zeros(pop_size)\n",
    "inv_f = 1/(f+1)\n",
    "print(inv_f)\n",
    "\n",
    "p=np.zeros(pop_size)\n",
    "p = inv_f/np.sum(inv_f)\n",
    "print(p)\n",
    "print(np.sum(p))\n",
    "\n",
    "c=np.zeros(pop_size)\n",
    "for i in range(0,pop_size):\n",
    "    c[i]=np.sum(p[:(i+1)])\n",
    "print(c)\n",
    "r=np.random.rand(pop_size)\n",
    "print(r)"
   ]
  },
  {
   "cell_type": "code",
   "execution_count": 679,
   "metadata": {},
   "outputs": [
    {
     "name": "stdout",
     "output_type": "stream",
     "text": [
      "[[14 14 24 12]\n",
      " [14 14 24 12]\n",
      " [27 21 26 17]\n",
      " [12 28 19 25]\n",
      " [27 21 26 17]\n",
      " [14 14 24 12]]\n"
     ]
    }
   ],
   "source": [
    "new_chromosomes = np.zeros((pop_size,ch_size),dtype='int16')\n",
    "for i in range(0,pop_size):\n",
    "    for j in range(0,pop_size):\n",
    "        if (r[i] <= c[j]):\n",
    "            new_chromosomes[i]=chromosomes[j]\n",
    "            break\n",
    "\n",
    "chromosomes=np.copy(new_chromosomes)\n",
    "print(new_chromosomes)"
   ]
  },
  {
   "cell_type": "markdown",
   "metadata": {},
   "source": [
    "#### Crossover"
   ]
  },
  {
   "cell_type": "code",
   "execution_count": 686,
   "metadata": {},
   "outputs": [
    {
     "name": "stdout",
     "output_type": "stream",
     "text": [
      "[array([12, 28, 19, 25], dtype=int16), array([27, 21, 26, 17], dtype=int16), array([14, 14, 24, 12], dtype=int16)]\n",
      "[3, 4, 5]\n",
      "[1 1 3]\n"
     ]
    },
    {
     "data": {
      "text/plain": [
       "array([28, 19], dtype=int16)"
      ]
     },
     "execution_count": 686,
     "metadata": {},
     "output_type": "execute_result"
    }
   ],
   "source": [
    "ch=[]\n",
    "ch_position=[]\n",
    "crossover_pt=[]\n",
    "for i in range(0,pop_size):\n",
    "    r = random.random()\n",
    "    if(r<pc):\n",
    "        ch.append(chromosomes[i])\n",
    "        ch_position.append(i)\n",
    "print(ch)   \n",
    "print(ch_position)\n",
    "crossover_pt=np.random.randint(1,(ch_size),size=len(ch))\n",
    "print(crossover_pt)\n",
    "ch[0][1:3]"
   ]
  },
  {
   "cell_type": "code",
   "execution_count": 687,
   "metadata": {},
   "outputs": [
    {
     "name": "stdout",
     "output_type": "stream",
     "text": [
      "[array([12, 21, 26, 17], dtype=int16), array([27, 14, 24, 12], dtype=int16), array([14, 14, 24, 25], dtype=int16)]\n"
     ]
    }
   ],
   "source": [
    "new_ch=[]\n",
    "for i in range(0,len(ch)):\n",
    "    new_ch.append(np.copy(ch[i]))\n",
    "    if(i<len(ch)-1):\n",
    "        new_ch[i][crossover_pt[i]:]=ch[i+1][crossover_pt[i]:].copy()\n",
    "    else:\n",
    "        new_ch[i][crossover_pt[i]:]=ch[0][crossover_pt[i]:].copy()\n",
    "print(new_ch)\n",
    "ch=new_ch.copy()"
   ]
  },
  {
   "cell_type": "code",
   "execution_count": 688,
   "metadata": {},
   "outputs": [
    {
     "name": "stdout",
     "output_type": "stream",
     "text": [
      "[[14 14 24 12]\n",
      " [14 14 24 12]\n",
      " [27 21 26 17]\n",
      " [12 21 26 17]\n",
      " [27 14 24 12]\n",
      " [14 14 24 25]]\n"
     ]
    }
   ],
   "source": [
    "for i in range(0,len(ch)):\n",
    "    chromosomes[ch_position[i]]=np.copy(ch[i])\n",
    "print(chromosomes)"
   ]
  },
  {
   "cell_type": "markdown",
   "metadata": {},
   "source": [
    "#### Mutation"
   ]
  },
  {
   "cell_type": "code",
   "execution_count": 689,
   "metadata": {},
   "outputs": [],
   "source": [
    "def chromesome_gene_pos(x):\n",
    "    ch_pos=int(x/ch_size)\n",
    "    gene_pos=x%ch_size\n",
    "    return ch_pos,gene_pos"
   ]
  },
  {
   "cell_type": "code",
   "execution_count": 646,
   "metadata": {},
   "outputs": [
    {
     "name": "stdout",
     "output_type": "stream",
     "text": [
      "2\n",
      "2\n"
     ]
    }
   ],
   "source": [
    "mutation_range = pop_size* ch_size*pm\n",
    "mutation_range = int(mutation_range)\n",
    "num_of_mut = random.randrange(0,mutation_range+1)\n",
    "print(mutation_range)\n",
    "print(num_of_mut)"
   ]
  },
  {
   "cell_type": "code",
   "execution_count": 691,
   "metadata": {},
   "outputs": [
    {
     "name": "stdout",
     "output_type": "stream",
     "text": [
      "[ 3 15]\n",
      "[14 15]\n",
      "0 3\n",
      "3 3\n"
     ]
    }
   ],
   "source": [
    "mut_values=np.random.randint(min_value,max_value,size=num_of_mut)\n",
    "mut_pos=np.random.randint(0,(pop_size*ch_size),size=num_of_mut)\n",
    "print(mut_pos)\n",
    "print(mut_values)\n",
    "for i in range(0,num_of_mut):\n",
    "    ch_pos,gene_pos=chromesome_gene_pos(mut_pos[i])\n",
    "    print(ch_pos,gene_pos)\n",
    "    chromosomes[ch_pos,gene_pos]=mut_values[i].copy()"
   ]
  },
  {
   "cell_type": "code",
   "execution_count": 692,
   "metadata": {},
   "outputs": [
    {
     "name": "stdout",
     "output_type": "stream",
     "text": [
      "Updated Chromosomes\n",
      "[[14 14 24 14]\n",
      " [25 14 24 12]\n",
      " [27 21 26 17]\n",
      " [12 21 26 15]\n",
      " [27 14 24 12]\n",
      " [14 14 24 19]]\n",
      "[66 75 91 74 77 71]\n"
     ]
    }
   ],
   "source": [
    "print('Updated Chromosomes')\n",
    "print(chromosomes)\n",
    "for i in range(0,6):\n",
    "    #fit.append(fitness(ini[i]))\n",
    "    f[i]=fitness(chromosomes[i])\n",
    "print(f)"
   ]
  },
  {
   "cell_type": "code",
   "execution_count": null,
   "metadata": {},
   "outputs": [],
   "source": []
  }
 ],
 "metadata": {
  "kernelspec": {
   "display_name": "Python 3",
   "language": "python",
   "name": "python3"
  },
  "language_info": {
   "codemirror_mode": {
    "name": "ipython",
    "version": 3
   },
   "file_extension": ".py",
   "mimetype": "text/x-python",
   "name": "python",
   "nbconvert_exporter": "python",
   "pygments_lexer": "ipython3",
   "version": "3.7.4"
  }
 },
 "nbformat": 4,
 "nbformat_minor": 2
}
