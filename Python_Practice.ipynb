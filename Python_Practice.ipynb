{
 "cells": [
  {
   "cell_type": "code",
   "execution_count": null,
   "metadata": {},
   "outputs": [],
   "source": [
    "import requests\n",
    "from bs4 import BeautifulSoup\n",
    "import smtplib as sp\n",
    "import time\n",
    "url='https://www.amazon.in/Kenstar-KTG02KGP-DBH-Toaster-Grilli-Black/dp/B074QR3ZL5/ref=sr_1_1?keywords=kenstar+grill&qid=1572808922&s=electronics&sr=8-1'\n",
    "\n",
    "headers={\"User-Agent\": 'Mozilla/5.0 (Windows NT 10.0; Win64; x64; rv:70.0) Gecko/20100101 Firefox/70.0'}"
   ]
  },
  {
   "cell_type": "code",
   "execution_count": null,
   "metadata": {},
   "outputs": [],
   "source": [
    "def check_price():\n",
    "    page = requests.get(url,headers=headers)\n",
    "    soup = BeautifulSoup(page.content,'html.parser')\n",
    "    title=soup.find(id='productTitle').getText().strip()\n",
    "    price=soup.find(id='priceblock_ourprice').getText().strip()\n",
    "    converted_price=price[2:7]\n",
    "    converted_price=float(converted_price.replace(',', ''))\n",
    "    print(converted_price)\n",
    "    if(converted_price < 1100 ):\n",
    "        send_mail()\n",
    "\n"
   ]
  },
  {
   "cell_type": "code",
   "execution_count": null,
   "metadata": {},
   "outputs": [],
   "source": [
    "def send_mail():\n",
    "    server=sp.SMTP('smtp.gmail.com',587)\n",
    "    server.ehlo()\n",
    "    server.starttls()\n",
    "    server.ehlo()\n",
    "    \n",
    "    server.login('gandhi.karan24@gmail.com','kgni\"2497')\n",
    "    subject='Price gir gaya re!'\n",
    "    body='Amazon chala chodu. Ye dekh: https://www.amazon.in/Kenstar-KTG02KGP-DBH-Toaster-Grilli-Black/dp/B074QR3ZL5/ref=sr_1_1?keywords=kenstar+grill&qid=1572808922&s=electronics&sr=8-1'\n",
    "    msg= f\"Subject:  {subject}\\n\\n{body}\"\n",
    "    \n",
    "    server.sendmail(\n",
    "    'gandhi.karan24@gmail.com',\n",
    "    'gandhi.karan24@gmail.com',\n",
    "    msg \n",
    "    )\n",
    "    print('Message sent succesfully!')\n",
    "    \n",
    "    server.quit()\n",
    " \n",
    "\n",
    "\n",
    "check_price()\n",
    "#while(True):\n",
    "    #check_price()\n",
    "    #time.sleep(100)"
   ]
  },
  {
   "cell_type": "code",
   "execution_count": 63,
   "metadata": {},
   "outputs": [
    {
     "name": "stdout",
     "output_type": "stream",
     "text": [
      "Kenstar KTG02KGP-DBH 750 W Toaster Grilli (Black)\n",
      "₹ 1,095.00\n",
      "1095.0\n"
     ]
    }
   ],
   "source": []
  },
  {
   "cell_type": "code",
   "execution_count": 64,
   "metadata": {},
   "outputs": [
    {
     "ename": "NameError",
     "evalue": "name 'send_mail' is not defined",
     "output_type": "error",
     "traceback": [
      "\u001b[1;31m---------------------------------------------------------------------------\u001b[0m",
      "\u001b[1;31mNameError\u001b[0m                                 Traceback (most recent call last)",
      "\u001b[1;32m<ipython-input-64-ec34d619953d>\u001b[0m in \u001b[0;36m<module>\u001b[1;34m\u001b[0m\n\u001b[0;32m      1\u001b[0m \u001b[1;32mif\u001b[0m\u001b[1;33m(\u001b[0m\u001b[0mconverted_price\u001b[0m \u001b[1;33m<\u001b[0m \u001b[1;36m1100\u001b[0m \u001b[1;33m)\u001b[0m\u001b[1;33m:\u001b[0m\u001b[1;33m\u001b[0m\u001b[1;33m\u001b[0m\u001b[0m\n\u001b[1;32m----> 2\u001b[1;33m     \u001b[0msend_mail\u001b[0m\u001b[1;33m(\u001b[0m\u001b[1;33m)\u001b[0m\u001b[1;33m\u001b[0m\u001b[1;33m\u001b[0m\u001b[0m\n\u001b[0m",
      "\u001b[1;31mNameError\u001b[0m: name 'send_mail' is not defined"
     ]
    }
   ],
   "source": []
  },
  {
   "cell_type": "code",
   "execution_count": null,
   "metadata": {},
   "outputs": [],
   "source": []
  }
 ],
 "metadata": {
  "kernelspec": {
   "display_name": "Python 3",
   "language": "python",
   "name": "python3"
  },
  "language_info": {
   "codemirror_mode": {
    "name": "ipython",
    "version": 3
   },
   "file_extension": ".py",
   "mimetype": "text/x-python",
   "name": "python",
   "nbconvert_exporter": "python",
   "pygments_lexer": "ipython3",
   "version": "3.7.4"
  }
 },
 "nbformat": 4,
 "nbformat_minor": 2
}
