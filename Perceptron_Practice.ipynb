{
 "cells": [
  {
   "cell_type": "code",
   "execution_count": 140,
   "metadata": {},
   "outputs": [],
   "source": [
    "import numpy as np"
   ]
  },
  {
   "cell_type": "code",
   "execution_count": 141,
   "metadata": {},
   "outputs": [],
   "source": [
    "def sigmoid(x):\n",
    "    return 1/ (1+ np.exp(-x))\n",
    "def sigmoid_derivative(x):\n",
    "    return x * ( 1 - x )"
   ]
  },
  {
   "cell_type": "code",
   "execution_count": 149,
   "metadata": {},
   "outputs": [
    {
     "data": {
      "text/plain": [
       "array([[1],\n",
       "       [0],\n",
       "       [1],\n",
       "       [1],\n",
       "       [0],\n",
       "       [1],\n",
       "       [1],\n",
       "       [0],\n",
       "       [1],\n",
       "       [1]])"
      ]
     },
     "execution_count": 149,
     "metadata": {},
     "output_type": "execute_result"
    }
   ],
   "source": [
    "no_of_iter =1\n",
    "M = 10\n",
    "N = 10\n",
    "# train_ip = np.array([[0,0,1],\n",
    "#          [1,1,1],\n",
    "#          [1,0,1],\n",
    "#          [0,1,1]])\n",
    "# train_op = np.array([0,1,1,0]).reshape(M,1)\n",
    "train_ip = np.random.randint(1,5,size=(M,N))\n",
    "train_op = np.random.randint(0,2,size = (M,1))\n",
    "train_op\n",
    "\n"
   ]
  },
  {
   "cell_type": "code",
   "execution_count": 150,
   "metadata": {},
   "outputs": [
    {
     "name": "stdout",
     "output_type": "stream",
     "text": [
      "[[-0.96023973]\n",
      " [-0.94757803]\n",
      " [-0.94338702]\n",
      " [-0.50757786]\n",
      " [ 0.7200559 ]\n",
      " [ 0.07766213]\n",
      " [ 0.10564396]\n",
      " [ 0.68406178]\n",
      " [-0.75165337]\n",
      " [-0.44163264]]\n"
     ]
    },
    {
     "ename": "ValueError",
     "evalue": "cannot reshape array of size 9 into shape (10,1)",
     "output_type": "error",
     "traceback": [
      "\u001b[1;31m---------------------------------------------------------------------------\u001b[0m",
      "\u001b[1;31mValueError\u001b[0m                                Traceback (most recent call last)",
      "\u001b[1;32m<ipython-input-150-3f8594c0c334>\u001b[0m in \u001b[0;36m<module>\u001b[1;34m\u001b[0m\n\u001b[0;32m      1\u001b[0m \u001b[0msynaptic_weights\u001b[0m \u001b[1;33m=\u001b[0m \u001b[1;36m2\u001b[0m \u001b[1;33m*\u001b[0m \u001b[0mnp\u001b[0m\u001b[1;33m.\u001b[0m\u001b[0mrandom\u001b[0m\u001b[1;33m.\u001b[0m\u001b[0mrand\u001b[0m\u001b[1;33m(\u001b[0m\u001b[0mN\u001b[0m\u001b[1;33m,\u001b[0m\u001b[1;36m1\u001b[0m\u001b[1;33m)\u001b[0m \u001b[1;33m-\u001b[0m \u001b[1;36m1\u001b[0m\u001b[1;33m\u001b[0m\u001b[1;33m\u001b[0m\u001b[0m\n\u001b[0;32m      2\u001b[0m \u001b[0mprint\u001b[0m\u001b[1;33m(\u001b[0m\u001b[0msynaptic_weights\u001b[0m\u001b[1;33m)\u001b[0m\u001b[1;33m\u001b[0m\u001b[1;33m\u001b[0m\u001b[0m\n\u001b[1;32m----> 3\u001b[1;33m \u001b[0mnp\u001b[0m\u001b[1;33m.\u001b[0m\u001b[0mdot\u001b[0m\u001b[1;33m(\u001b[0m\u001b[0minput_layer\u001b[0m\u001b[1;33m,\u001b[0m\u001b[0mnp\u001b[0m\u001b[1;33m.\u001b[0m\u001b[0marange\u001b[0m\u001b[1;33m(\u001b[0m\u001b[1;36m1\u001b[0m\u001b[1;33m,\u001b[0m\u001b[0mM\u001b[0m\u001b[1;33m)\u001b[0m\u001b[1;33m.\u001b[0m\u001b[0mreshape\u001b[0m\u001b[1;33m(\u001b[0m\u001b[0mN\u001b[0m\u001b[1;33m,\u001b[0m\u001b[1;36m1\u001b[0m\u001b[1;33m)\u001b[0m\u001b[1;33m)\u001b[0m\u001b[1;33m\u001b[0m\u001b[1;33m\u001b[0m\u001b[0m\n\u001b[0m\u001b[0;32m      4\u001b[0m \u001b[1;31m# input_layer* np.arange(1,4)\u001b[0m\u001b[1;33m\u001b[0m\u001b[1;33m\u001b[0m\u001b[1;33m\u001b[0m\u001b[0m\n",
      "\u001b[1;31mValueError\u001b[0m: cannot reshape array of size 9 into shape (10,1)"
     ]
    }
   ],
   "source": [
    "synaptic_weights = 2 * np.random.rand(N,1) - 1\n",
    "print(synaptic_weights)\n",
    "np.dot(input_layer,np.arange(1,M).reshape(N,1))\n",
    "# input_layer* np.arange(1,4)"
   ]
  },
  {
   "cell_type": "code",
   "execution_count": 163,
   "metadata": {},
   "outputs": [
    {
     "name": "stdout",
     "output_type": "stream",
     "text": [
      "Exact Values after 20000 iterations\n",
      "[[0.99818261]\n",
      " [0.00144987]\n",
      " [1.        ]\n",
      " [0.99998816]\n",
      " [0.00140916]\n",
      " [1.        ]\n",
      " [0.99858089]\n",
      " [0.00145146]\n",
      " [0.99978368]\n",
      " [1.        ]]\n",
      "\n",
      "Values after rounding off\n",
      "[[1.]\n",
      " [0.]\n",
      " [1.]\n",
      " [1.]\n",
      " [0.]\n",
      " [1.]\n",
      " [1.]\n",
      " [0.]\n",
      " [1.]\n",
      " [1.]]\n",
      "\n",
      "Weights after 20000 iterations\n",
      "[[  3.59853494]\n",
      " [  1.45964684]\n",
      " [  3.1065206 ]\n",
      " [ -4.36206307]\n",
      " [  8.50833318]\n",
      " [  1.40187855]\n",
      " [ -2.60239652]\n",
      " [-11.3747921 ]\n",
      " [  5.61667264]\n",
      " [  1.8719289 ]]\n"
     ]
    }
   ],
   "source": [
    "for i in range(20000):\n",
    "    input_layer = train_ip\n",
    "    output = sigmoid(np.dot(input_layer,synaptic_weights))\n",
    "    error = train_op - output\n",
    "    adjustments = error * sigmoid_derivative(output)\n",
    "    synaptic_weights += np.dot(input_layer.T, adjustments)\n",
    "#     print('output after itereation',i,' ')\n",
    "#     print(output)\n",
    "#     print('Weights after itereation',i,' ')\n",
    "#     print(synaptic_weights)\n",
    "\n",
    "print('Exact Values after %d iterations' %(i+1))\n",
    "print(output)\n",
    "\n",
    "print('\\nValues after rounding off')\n",
    "print(np.around(output,decimals = 1))\n",
    "\n",
    "print('\\nWeights after %d iterations' %(i+1))\n",
    "print(synaptic_weights)\n",
    "    "
   ]
  },
  {
   "cell_type": "code",
   "execution_count": null,
   "metadata": {},
   "outputs": [],
   "source": []
  },
  {
   "cell_type": "code",
   "execution_count": null,
   "metadata": {},
   "outputs": [],
   "source": []
  },
  {
   "cell_type": "code",
   "execution_count": null,
   "metadata": {},
   "outputs": [],
   "source": []
  }
 ],
 "metadata": {
  "kernelspec": {
   "display_name": "Python 3",
   "language": "python",
   "name": "python3"
  },
  "language_info": {
   "codemirror_mode": {
    "name": "ipython",
    "version": 3
   },
   "file_extension": ".py",
   "mimetype": "text/x-python",
   "name": "python",
   "nbconvert_exporter": "python",
   "pygments_lexer": "ipython3",
   "version": "3.7.4"
  }
 },
 "nbformat": 4,
 "nbformat_minor": 2
}
