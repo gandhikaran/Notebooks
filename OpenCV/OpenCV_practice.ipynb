{
 "cells": [
  {
   "cell_type": "code",
   "execution_count": 1,
   "metadata": {
    "scrolled": true
   },
   "outputs": [],
   "source": [
    "import cv2\n",
    "import numpy as np"
   ]
  },
  {
   "cell_type": "code",
   "execution_count": 2,
   "metadata": {},
   "outputs": [
    {
     "data": {
      "text/plain": [
       "'4.2.0'"
      ]
     },
     "execution_count": 2,
     "metadata": {},
     "output_type": "execute_result"
    }
   ],
   "source": [
    "cv2.__version__"
   ]
  },
  {
   "cell_type": "markdown",
   "metadata": {},
   "source": [
    "#### Reading, displaying, saving a photo "
   ]
  },
  {
   "cell_type": "code",
   "execution_count": 4,
   "metadata": {},
   "outputs": [],
   "source": [
    "img = cv2.imread('lena.jpg',1)#0 for grayscale, 1 for color, -1 for unchanged(includes alpha channel)\n",
    "cv2.imshow('image',img)\n",
    "key = cv2.waitKey(0)\n",
    "if key == ord('s'):#ord() returns unicode\n",
    "    cv2.imwrite('lena_copy.png',img)\n",
    "    cv2.destroyAllWindows()\n",
    "else:\n",
    "    cv2.destroyAllWindows()"
   ]
  },
  {
   "cell_type": "markdown",
   "metadata": {},
   "source": [
    "#### Video Capture  and Saving with FourCC codes"
   ]
  },
  {
   "cell_type": "code",
   "execution_count": 42,
   "metadata": {},
   "outputs": [
    {
     "name": "stdout",
     "output_type": "stream",
     "text": [
      "Width:  720.0\n",
      "Height:  528.0\n"
     ]
    }
   ],
   "source": [
    "cap = cv2.VideoCapture('Megamind.avi')# Read the video file\n",
    "# cap = cv2.VideoCapture(0)\n",
    "\n",
    "try:\n",
    "    while(cap.isOpened()):\n",
    "        ret, frame = cap.read()\n",
    "#         cv2.imshow('frame',frame)\n",
    "        gray = cv2.cvtColor(frame,cv2.COLOR_BGR2GRAY)\n",
    "        cv2.imshow('frame',gray)\n",
    "#     if cv2.waitKey(1) == ord('q'):\n",
    "        if cv2.waitKey(40) > 0:\n",
    "            break\n",
    "    print('Width: ',cap.get(cv2.CAP_PROP_FRAME_WIDTH))\n",
    "    print('Height: ',cap.get(cv2.CAP_PROP_FRAME_HEIGHT))\n",
    "    cap.release()\n",
    "    cv2.destroyAllWindows()\n",
    "except:\n",
    "    cv2.destroyAllWindows()\n",
    "    "
   ]
  },
  {
   "cell_type": "markdown",
   "metadata": {},
   "source": [
    "#### ----\n",
    "Saving the file"
   ]
  },
  {
   "cell_type": "code",
   "execution_count": 35,
   "metadata": {},
   "outputs": [],
   "source": [
    "cap = cv2.VideoCapture(0)\n",
    "w = int(cap.get(cv2.CAP_PROP_FRAME_WIDTH))\n",
    "h = int(cap.get(cv2.CAP_PROP_FRAME_HEIGHT))\n",
    "fourCC = cv2.VideoWriter_fourcc(*'XVID')\n",
    "out = cv2.VideoWriter('output.avi', fourCC, 24.0, (w,h))"
   ]
  },
  {
   "cell_type": "code",
   "execution_count": 33,
   "metadata": {},
   "outputs": [
    {
     "name": "stdout",
     "output_type": "stream",
     "text": [
      "0.0\n",
      "0.0\n"
     ]
    }
   ],
   "source": [
    "\n",
    "try:\n",
    "    while(cap.isOpened()):\n",
    "        ret, frame = cap.read()\n",
    "        if ret == True:\n",
    "            cv2.imshow('frame',frame)\n",
    "#           gray = cv2.cvtColor(frame,cv2.COLOR_BGR2GRAY)\n",
    "#           cv2.imshow('frame',gray)\n",
    "            \n",
    "            out.write(frame)\n",
    "    \n",
    "#           if cv2.waitKey(1) == ord('q'):\n",
    "            if cv2.waitKey(40) > 0:\n",
    "                break\n",
    "        else:\n",
    "            break\n",
    "            \n",
    "    cap.release()\n",
    "    out.release()\n",
    "    cv2.destroyAllWindows()\n",
    "except:\n",
    "    cap.release()\n",
    "    out.release()\n",
    "    cv2.destroyAllWindows()"
   ]
  },
  {
   "cell_type": "markdown",
   "metadata": {},
   "source": [
    "#### Geometric Shapes"
   ]
  },
  {
   "cell_type": "code",
   "execution_count": 19,
   "metadata": {},
   "outputs": [],
   "source": [
    "img = cv2.imread('lena.jpg',1)\n",
    "cv2.line(img,(0,0),(400,200),(100,51,121),5)\n",
    "cv2.arrowedLine(img,(0,200),(400,200),(100,51,121),2)\n",
    "cv2.rectangle(img,(384,0),(510,128),(0,255,0),3)\n",
    "cv2.circle(img,(447,63), 63, (0,0,255), -1)# -1 thickness fills the circle\n",
    "cv2.circle(img,(447,63), 63, (0,255,255), 2)\n",
    "cv2.ellipse(img,(256,256),(100,50),10,50,180,(25,54,66),-1)\n",
    "\n",
    "pts = np.array([[10,5],[20,30],[70,20],[50,10]], np.int32).reshape(-1,1,2)\n",
    "cv2.polylines(img,[pts],True,(0,255,255))\n",
    "\n",
    "font = cv2.FONT_HERSHEY_SIMPLEX\n",
    "cv2.putText(img,'OpenCV',(10,500), font, 3,(255,255,255), 2, cv2.LINE_AA)#(10,500) start at bottom left of text\n",
    "\n",
    "cv2.imshow('image',img)\n",
    "cv2.waitKey(0) & 0xFF\n",
    "cv2.imwrite('geomtery.png',img)\n",
    "cv2.destroyAllWindows()"
   ]
  },
  {
   "cell_type": "markdown",
   "metadata": {},
   "source": [
    "Generates window with random colors`"
   ]
  },
  {
   "cell_type": "code",
   "execution_count": null,
   "metadata": {},
   "outputs": [],
   "source": [
    "black_img = np.zeros((512,512,3),np.uint8)\n",
    "rnd_img = np.random.randint(256,size=(512,512,3),dtype=np.uint8)\n",
    "# cv2.imshow('image',black_img)\n",
    "cv2.imshow('image',rnd_img)\n",
    "cv2.waitKey(0)\n",
    "cv2.destroyAllWindows()"
   ]
  },
  {
   "cell_type": "markdown",
   "metadata": {},
   "source": [
    "#### Setting the Camera parameters "
   ]
  },
  {
   "cell_type": "code",
   "execution_count": 55,
   "metadata": {},
   "outputs": [],
   "source": [
    "cap = cv2.VideoCapture('Megamind.avi')"
   ]
  },
  {
   "cell_type": "code",
   "execution_count": 30,
   "metadata": {},
   "outputs": [
    {
     "name": "stdout",
     "output_type": "stream",
     "text": [
      "640.0\n",
      "480.0\n",
      "1280.0\n",
      "720.0\n"
     ]
    }
   ],
   "source": [
    "print(cap.get(cv2.CAP_PROP_FRAME_WIDTH))\n",
    "print(cap.get(cv2.CAP_PROP_FRAME_HEIGHT))\n",
    "cap.set(cv2.CAP_PROP_FRAME_WIDTH, 1208)#can also write cap.set(3,1208)\n",
    "cap.set(cv2.CAP_PROP_FRAME_HEIGHT, 720)#can also write cap.set(4,1208)\n",
    "print(cap.get(cv2.CAP_PROP_FRAME_WIDTH))\n",
    "print(cap.get(cv2.CAP_PROP_FRAME_HEIGHT))"
   ]
  },
  {
   "cell_type": "markdown",
   "metadata": {},
   "source": [
    "Counting the number of Frames"
   ]
  },
  {
   "cell_type": "code",
   "execution_count": 56,
   "metadata": {},
   "outputs": [
    {
     "name": "stdout",
     "output_type": "stream",
     "text": [
      "No of Frames :  270.0\n"
     ]
    }
   ],
   "source": [
    "try:\n",
    "    while(cap.isOpened()):\n",
    "        ret, frame = cap.read()\n",
    "        if ret == True:\n",
    "            cv2.imshow('frame',frame)\n",
    "            if cv2.waitKey(1) > 0:\n",
    "                break\n",
    "        else:\n",
    "            break\n",
    "finally:\n",
    "    print('No of Frames : ',cap.get(cv2.CAP_PROP_FRAME_COUNT))\n",
    "    cap.release()\n",
    "    cv2.destroyAllWindows()"
   ]
  },
  {
   "cell_type": "markdown",
   "metadata": {},
   "source": [
    "#### Setting date & time on video (or any general text)"
   ]
  },
  {
   "cell_type": "code",
   "execution_count": 50,
   "metadata": {},
   "outputs": [
    {
     "data": {
      "text/plain": [
       "'17:31:46'"
      ]
     },
     "execution_count": 50,
     "metadata": {},
     "output_type": "execute_result"
    }
   ],
   "source": [
    "import datetime\n",
    "datet = datetime.datetime.now()\n",
    "datet.strftime('%X')"
   ]
  },
  {
   "cell_type": "code",
   "execution_count": 51,
   "metadata": {},
   "outputs": [],
   "source": [
    "cap = cv2.VideoCapture(0)\n",
    "font = cv2.FONT_HERSHEY_SIMPLEX\n",
    "# w = int(cap.get(cv2.CAP_PROP_FRAME_WIDTH))\n",
    "# h = int(cap.get(cv2.CAP_PROP_FRAME_HEIGHT))\n",
    "# fourCC = cv2.VideoWriter_fourcc(*'XVID')\n",
    "# out = cv2.VideoWriter('output.avi', fourCC, 24.0, (w,h))\n",
    "try:\n",
    "    while(cap.isOpened()):\n",
    "        ret, frame = cap.read()\n",
    "        if ret == True:\n",
    "            datet = str(datetime.datetime.now())\n",
    "            cv2.putText(frame,datet,(10,50),font, 1, (0,255,255), 1, cv2.LINE_AA)\n",
    "#             frame = cv2.blur(frame,(15,15)) # Blurs the frame\n",
    "            cv2.imshow('frame',frame)\n",
    "#             out.write(frame)\n",
    "            if cv2.waitKey(1) > 0:\n",
    "                break\n",
    "        else:\n",
    "            break\n",
    "finally:\n",
    "    cap.release()\n",
    "#     out.release()\n",
    "    cv2.destroyAllWindows()"
   ]
  },
  {
   "cell_type": "markdown",
   "metadata": {},
   "source": [
    "#### Handling mouse events "
   ]
  },
  {
   "cell_type": "code",
   "execution_count": 53,
   "metadata": {},
   "outputs": [
    {
     "name": "stdout",
     "output_type": "stream",
     "text": [
      "2181\n"
     ]
    }
   ],
   "source": [
    "print(len(dir(cv2)))\n",
    "# print(dir(cv2))"
   ]
  },
  {
   "cell_type": "code",
   "execution_count": 29,
   "metadata": {},
   "outputs": [
    {
     "name": "stdout",
     "output_type": "stream",
     "text": [
      "['EVENT_RBUTTONDBLCLK', 'EVENT_RBUTTONDOWN', 'EVENT_RBUTTONUP']\n"
     ]
    }
   ],
   "source": [
    "events = [i for i in dir(cv2) if 'EVENT_R' in i]\n",
    "print(events)"
   ]
  },
  {
   "cell_type": "markdown",
   "metadata": {},
   "source": [
    "Showing Coordinate and BGR points"
   ]
  },
  {
   "cell_type": "code",
   "execution_count": 43,
   "metadata": {},
   "outputs": [],
   "source": [
    "path = 'Lena.jpg'\n",
    "window_name = 'image'\n",
    "\n",
    "def click_mouse(event, x, y, flags, param):\n",
    "    global img\n",
    "    if event == cv2.EVENT_LBUTTONDOWN:\n",
    "        font = cv2.FONT_HERSHEY_SIMPLEX\n",
    "        strXY = str(x) + ', ' + str(y)\n",
    "        cv2.putText(img, strXY, (x+2,y-2), font, 1, (255,255,0),2, cv2.LINE_AA)\n",
    "        cv2.circle(img, (x,y),1,(255,255,0),-1)\n",
    "        cv2.imshow(window_name,img)\n",
    "    \n",
    "    if event == cv2.EVENT_RBUTTONDOWN:\n",
    "        font = cv2.FONT_HERSHEY_SIMPLEX\n",
    "        b = img[y, x, 0]\n",
    "        g = img[y, x, 1]\n",
    "        r = img[y, x, 2]\n",
    "        strBGR = str(b) + ', ' + str(g) + ', ' + str(r) \n",
    "        cv2.putText(img, strBGR, (x+2,y-2), font, 1, (21,255,255),2, cv2.LINE_AA)\n",
    "        cv2.circle(img, (x,y),1,(21,255,255),-1)\n",
    "        cv2.imshow(window_name,img)\n",
    "        \n",
    "    if event == cv2.EVENT_LBUTTONUP or event == cv2.EVENT_RBUTTONUP :\n",
    "        img = cv2.imread(path,1)\n",
    "        cv2.imshow(window_name,img)   \n",
    "\n",
    "global img\n",
    "img = cv2.imread(path,1)   \n",
    "cv2.imshow(window_name,img)\n",
    "cv2.setMouseCallback(window_name,click_mouse)\n",
    "cv2.waitKey(0)\n",
    "cv2.destroyAllWindows()"
   ]
  },
  {
   "cell_type": "markdown",
   "metadata": {},
   "source": [
    "Drawing lines"
   ]
  },
  {
   "cell_type": "code",
   "execution_count": 48,
   "metadata": {},
   "outputs": [],
   "source": [
    "path = 'Lena.jpg'\n",
    "window_name = 'image'\n",
    "\n",
    "def click_mouse(event, x, y, flags, param):\n",
    "    global img\n",
    "    if event == cv2.EVENT_LBUTTONDOWN:\n",
    "        cv2.circle(img, (x, y), 2, (0, 0, 255), -1)\n",
    "        points.append((x, y))\n",
    "        if len(points) >= 2:\n",
    "            cv2.line(img, points[-1], points[-2], (255,255,0), 4)\n",
    "        cv2.imshow(window_name, img)\n",
    "    \n",
    "    if event == cv2.EVENT_RBUTTONDOWN:\n",
    "#         img = cv2.imread(path,1)\n",
    "        img = np.zeros((512,512,3),np.uint8)\n",
    "        cv2.imshow(window_name,img)    \n",
    "\n",
    "global img\n",
    "# img = cv2.imread(path,1)  \n",
    "img = np.zeros((512,512,3),np.uint8)\n",
    "cv2.imshow(window_name,img)\n",
    "points = []\n",
    "cv2.setMouseCallback(window_name,click_mouse)\n",
    "cv2.waitKey(0)\n",
    "cv2.destroyAllWindows()"
   ]
  },
  {
   "cell_type": "markdown",
   "metadata": {},
   "source": [
    "#### Spli, Merge, Add, AddWeighted functions"
   ]
  },
  {
   "cell_type": "code",
   "execution_count": 100,
   "metadata": {},
   "outputs": [
    {
     "name": "stdout",
     "output_type": "stream",
     "text": [
      "(342, 548, 3)\n",
      "562248\n",
      "uint8\n"
     ]
    }
   ],
   "source": [
    "img = cv2.imread('Messi5.jpg',1)\n",
    "\n",
    "print(img.shape)\n",
    "print(img.size)\n",
    "print(img.dtype)\n",
    "b, g, r = cv2.split(img) # Splits into [:,:,0],[:,:,1],[:,:,2]\n",
    "img = cv2.merge((b,g,r))# recombines it"
   ]
  },
  {
   "cell_type": "code",
   "execution_count": 99,
   "metadata": {},
   "outputs": [
    {
     "name": "stdout",
     "output_type": "stream",
     "text": [
      "(342, 548, 3)\n",
      "562248\n",
      "uint8\n"
     ]
    }
   ],
   "source": [
    "img = cv2.imread('Messi5.jpg',1)\n",
    "img2 = cv2.imread('Lena.jpg',1)\n",
    "print(img.shape)\n",
    "print(img.size)\n",
    "print(img.dtype)\n",
    "\n",
    "img2 = cv2.resize(img2, (img.shape[1],img.shape[0]))\n",
    "\n",
    "dst = cv2.add(img,img2)\n",
    "dst2 = cv2.addWeighted(img, 0.8, img2, 0.2, 0)\n",
    "\n",
    "cv2.imshow('image',dst)\n",
    "cv2.imshow('image2',dst2)\n",
    "cv2.waitKey(0)\n",
    "cv2.destroyAllWindows()"
   ]
  },
  {
   "cell_type": "markdown",
   "metadata": {},
   "source": [
    "Copying our ROI (Region of Interest) : The ball here"
   ]
  },
  {
   "cell_type": "code",
   "execution_count": 103,
   "metadata": {},
   "outputs": [],
   "source": [
    "img = cv2.imread('Messi5.jpg',1)\n",
    "ball = img[280:340, 330:390]\n",
    "img[273:333, 100:160] = ball\n",
    "cv2.imshow('image',img)\n",
    "cv2.waitKey(0)\n",
    "cv2.destroyAllWindows()"
   ]
  },
  {
   "cell_type": "markdown",
   "metadata": {},
   "source": [
    "#### Bitwise operators (useful for masking)"
   ]
  },
  {
   "cell_type": "code",
   "execution_count": 110,
   "metadata": {},
   "outputs": [],
   "source": [
    "img1 = np.zeros((250,500,3),np.uint8)\n",
    "cv2.rectangle(img1, (250,0),(499,249), (255,255,255), -1)\n",
    "\n",
    "img2 = np.zeros((250,500,3),np.uint8)\n",
    "cv2.rectangle(img2, (200,0),(300,100), (255,255,255), -1)\n",
    "\n",
    "bitAnd = cv2.bitwise_and(img1, img2)\n",
    "bitOr = cv2.bitwise_or(img1, img2)\n",
    "bitXor = cv2.bitwise_xor(img1, img2)\n",
    "bitNot_img1 = cv2.bitwise_not(img1)\n",
    "\n",
    "cv2.imshow('image',img1)\n",
    "cv2.imshow('image2',img2)\n",
    "cv2.imshow('bitAnd',bitAnd)\n",
    "cv2.imshow('bitOr',bitOr)\n",
    "cv2.imshow('bitXor',bitXor)\n",
    "cv2.imshow('bitNot_img1',bitNot_img1)\n",
    "cv2.waitKey(0)\n",
    "cv2.destroyAllWindows()"
   ]
  },
  {
   "cell_type": "markdown",
   "metadata": {},
   "source": [
    "#### Creating Trackbar"
   ]
  },
  {
   "cell_type": "code",
   "execution_count": 4,
   "metadata": {},
   "outputs": [],
   "source": [
    "def nothing(x):\n",
    "#     print(x)\n",
    "    pass\n",
    "\n",
    "# Create a black image, a window\n",
    "img = np.zeros((300,512,3), np.uint8)\n",
    "cv2.namedWindow('image')\n",
    "\n",
    "cv2.createTrackbar('B', 'image', 0, 255, nothing)\n",
    "cv2.createTrackbar('G', 'image', 0, 255, nothing)\n",
    "cv2.createTrackbar('R', 'image', 0, 255, nothing)\n",
    "\n",
    "switch = '0 : OFF\\n 1 : ON'\n",
    "cv2.createTrackbar(switch, 'image', 0, 1, nothing)\n",
    "\n",
    "while(1):\n",
    "    cv2.imshow('image',img)\n",
    "    if cv2.waitKey(40) > 0 :\n",
    "        break\n",
    "\n",
    "    b = cv2.getTrackbarPos('B', 'image')\n",
    "    g = cv2.getTrackbarPos('G', 'image')\n",
    "    r = cv2.getTrackbarPos('R', 'image')\n",
    "    s = cv2.getTrackbarPos(switch, 'image')\n",
    "\n",
    "    if s == 0:\n",
    "       img[:] = 0\n",
    "    else:\n",
    "       img[:] = [b, g, r]\n",
    "\n",
    "\n",
    "cv2.destroyAllWindows()"
   ]
  }
 ],
 "metadata": {
  "kernelspec": {
   "display_name": "Python 3",
   "language": "python",
   "name": "python3"
  },
  "language_info": {
   "codemirror_mode": {
    "name": "ipython",
    "version": 3
   },
   "file_extension": ".py",
   "mimetype": "text/x-python",
   "name": "python",
   "nbconvert_exporter": "python",
   "pygments_lexer": "ipython3",
   "version": "3.7.4"
  }
 },
 "nbformat": 4,
 "nbformat_minor": 2
}
