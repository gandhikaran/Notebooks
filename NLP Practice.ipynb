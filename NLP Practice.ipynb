{
 "cells": [
  {
   "cell_type": "code",
   "execution_count": 1,
   "metadata": {},
   "outputs": [],
   "source": [
    "import os\n",
    "import nltk\n",
    "import nltk.corpus\n",
    "import matplotlib.pyplot as plt\n",
    "import re"
   ]
  },
  {
   "cell_type": "code",
   "execution_count": 2,
   "metadata": {},
   "outputs": [],
   "source": [
    "#sentence = \"Mai hu kon mai hu kon, mai hu mai hu mai hu don!\"\n",
    "sentence = \"Good morning Gokuldham!\"\n",
    "#tokens = nltk.word_tokenize(sentence)\n",
    "#sentence = \" At eight o'clock on Thursday morning Arthur didn't feel very good.\"\n",
    "tokens = nltk.word_tokenize(sentence)\n",
    "tagged = nltk.pos_tag(tokens)\n",
    "entities = nltk.chunk.ne_chunk(tagged)"
   ]
  },
  {
   "cell_type": "code",
   "execution_count": 3,
   "metadata": {},
   "outputs": [],
   "source": [
    "entities.draw()\n"
   ]
  },
  {
   "cell_type": "code",
   "execution_count": 4,
   "metadata": {
    "scrolled": true
   },
   "outputs": [
    {
     "name": "stdout",
     "output_type": "stream",
     "text": [
      "['abc', 'abc.zip', 'alpino', 'alpino.zip', 'biocreative_ppi', 'biocreative_ppi.zip', 'brown', 'brown.zip', 'brown_tei', 'brown_tei.zip', 'cess_cat', 'cess_cat.zip', 'cess_esp', 'cess_esp.zip', 'chat80', 'chat80.zip', 'city_database', 'city_database.zip', 'cmudict', 'cmudict.zip', 'comparative_sentences', 'comparative_sentences.zip', 'comtrans.zip', 'conll2000', 'conll2000.zip', 'conll2002', 'conll2002.zip', 'conll2007.zip', 'crubadan', 'crubadan.zip', 'dependency_treebank', 'dependency_treebank.zip', 'dolch', 'dolch.zip', 'europarl_raw', 'europarl_raw.zip', 'floresta', 'floresta.zip', 'framenet_v15', 'framenet_v15.zip', 'framenet_v17', 'framenet_v17.zip', 'gazetteers', 'gazetteers.zip', 'genesis', 'genesis.zip', 'gutenberg', 'gutenberg.zip', 'ieer', 'ieer.zip', 'inaugural', 'inaugural.zip', 'indian', 'indian.zip', 'jeita.zip', 'kimmo', 'kimmo.zip', 'knbc.zip', 'lin_thesaurus', 'lin_thesaurus.zip', 'machado.zip', 'mac_morpho', 'mac_morpho.zip', 'masc_tagged.zip', 'movie_reviews', 'movie_reviews.zip', 'mte_teip5', 'mte_teip5.zip', 'names', 'names.zip', 'nombank.1.0.zip', 'nonbreaking_prefixes', 'nonbreaking_prefixes.zip', 'nps_chat', 'nps_chat.zip', 'omw', 'omw.zip', 'opinion_lexicon', 'opinion_lexicon.zip', 'panlex_swadesh.zip', 'paradigms', 'paradigms.zip', 'pil', 'pil.zip', 'pl196x', 'pl196x.zip', 'ppattach', 'ppattach.zip', 'problem_reports', 'problem_reports.zip', 'product_reviews_1', 'product_reviews_1.zip', 'product_reviews_2', 'product_reviews_2.zip', 'propbank.zip', 'pros_cons', 'pros_cons.zip', 'ptb', 'ptb.zip', 'qc', 'qc.zip', 'reuters.zip', 'rte', 'rte.zip', 'semcor.zip', 'senseval', 'senseval.zip', 'sentence_polarity', 'sentence_polarity.zip', 'sentiwordnet', 'sentiwordnet.zip', 'shakespeare', 'shakespeare.zip', 'sinica_treebank', 'sinica_treebank.zip', 'smultron', 'smultron.zip', 'state_union', 'state_union.zip', 'stopwords', 'stopwords.zip', 'subjectivity', 'subjectivity.zip', 'swadesh', 'swadesh.zip', 'switchboard', 'switchboard.zip', 'timit', 'timit.zip', 'toolbox', 'toolbox.zip', 'treebank', 'treebank.zip', 'twitter_samples', 'twitter_samples.zip', 'udhr', 'udhr.zip', 'udhr2', 'udhr2.zip', 'unicode_samples', 'unicode_samples.zip', 'universal_treebanks_v20.zip', 'verbnet', 'verbnet.zip', 'verbnet3', 'verbnet3.zip', 'webtext', 'webtext.zip', 'wordnet', 'wordnet.zip', 'wordnet_ic', 'wordnet_ic.zip', 'words', 'words.zip', 'ycoe', 'ycoe.zip']\n"
     ]
    }
   ],
   "source": [
    "print(os.listdir(nltk.data.find(\"corpora\")))"
   ]
  },
  {
   "cell_type": "code",
   "execution_count": 5,
   "metadata": {},
   "outputs": [
    {
     "data": {
      "text/plain": [
       "['bangla.pos', 'hindi.pos', 'marathi.pos', 'telugu.pos']"
      ]
     },
     "execution_count": 5,
     "metadata": {},
     "output_type": "execute_result"
    }
   ],
   "source": [
    "nltk.corpus.indian.fileids()"
   ]
  },
  {
   "cell_type": "code",
   "execution_count": 6,
   "metadata": {},
   "outputs": [],
   "source": [
    "hindi = nltk.corpus.indian.words('hindi.pos')"
   ]
  },
  {
   "cell_type": "code",
   "execution_count": 7,
   "metadata": {},
   "outputs": [
    {
     "name": "stdout",
     "output_type": "stream",
     "text": [
      "पूर्ण प्रतिबंध हटाओ : इराक संयुक्त राष्ट्र । इराक के विदेश मंत्री ने अमरीका के उस प्रस्ताव का मजाक उड़ाया है , जिसमें अमरीका ने संयुक्त राष्ट्र के प्रतिबंधों को इराकी नागरिकों के लिए कम हानिकारक बनाने के लिए कहा है । विदेश मंत्री का कहना है कि चूंकि बगदाद संयुक्त राष्ट्र की मांगों का पालन करते हुए अपने भारी विनाशकारी हथियारों को नष्ट कर रहा है । लिहाजा प्रतिबंधों को पूर्ण रूप से उठा दिया जाना चाहिए । विदेश मंत्री मोहम्मद सईद का कहना है कि वे इसे 'सुव्यवस्थित प्रतिबंध' कह कर आम राय और सुरक्षा परिषद को छल रहे हैं । बेनजीर की सुनवाई स्थगित कराची । पाकिस्तान की पूर्व प्रधानमंत्री बेनजीर भुट्टो पर लगे भ्रष्टाचार के आरोपों के खिलाफ भुट्टो द्वारा दायर की गई याचिका की सुनवाई मंगलवार को वकीलों की हड़ताल के कारण स्थगित कर दी गई । सिंध हाईकोर्ट बार एसोसिएशन के अध्यक्ष रशीद रिजवी के मुताबिक यह हड़ताल उच्च न्यायालय और निचली अदालतों के स्तर पर सफल रही । देश में पुन : प्रजातंत्र की स्थापना की मांग को लेकर यह हड़ताल की गई थी । सुप्रीम कोर्ट में भुट्टो के उक्त मामले की सुनवाई सोमवार से शुरू हुई , जो फिलहाल बुधवार तक स्थगित है । मुशर्रफ सऊदी अरब को मनाएंगे इस्लामाबाद । पाकिस्तानी सैन्य प्रशासक जनरल परवेज मुशर्रफ द्वारा सऊदी अरब को कश्मीर विवाद मुद्दे पर भारत और पाकिस्तान की मध्यस्थता के लिए मनाने की संभावना व्यक्त की गई है । आधिकारिक सूत्रों के हवाले से कहा गया है कि मुशर्रफ की बुधवार से शुरू हो रही हज यात्रा इस मायने में काफी महत्वपूर्ण हो सकती है । मुशर्रफ अपने इस हज यात्रा के दौरान कश्मीर के अलावा फिलीस्तिन , अमरीका द्वारा ओसमा बिन लादेन के प्रत्यर्पण की मांग आदि पर चर्चा करेंगे । इस दौरान मुशर्रफ सऊदी राजा फाहद , उप प्रधानमंत्री सहित कई बड़ी हस्तियों से मिलेंगे । पाकिस्तान के बर्खास्त पूर्व प्रधानमंत्री नवाज शरीफ के मामले में भी यहां चर्चा होगी । पत्रकारों के लिए कल्याण कोष नई दिल्ली । वित्तमंत्री यशवंत सिन्हा ने अपने बजट में पत्रकारों के लिए कल्याण कोष स्थापित करने की घोषणा की है । कोष में सूचना एवं प्रसारण मंत्रालय १ करोड़ की सहायता देगा । बजट प्रस्तुत करते हुए सिन्हा ने कहा कि पत्रकार कई अवसरों पर कवरेज के लिए जोखिम उठाते हैं यह कोष उनकी सेवा एवं संघर्ष के लिए होगा । उन्होंने कहा कि पांच वर्ष में एक बार मान्यता प्राप्त पत्रकार को करमुक्त आयात द्वारा व्यक्तिगत उपयोग के लिए सामग्री मंगाने की सुविधा अब दो वर्ष कर दी गई है । फिलहाल मान्यता प्राप्त पत्रकार एवं कैमरामैन कैमरा , फैक्स , कम्प्यूटर आदि जिनकी अधिकतम लागत १ लाख रुपए तक हो बिना कस्टम ड्यूटी चुकाए पांच साल में एक बार मंगा सकते थे । बजट विकास को गति देगा : वाजपेयी नई दिल्ली । प्रधानमंत्री अटलबिहारी वाजपेयी ने कहा है कि वित्तमंत्री यशवंत सिन्हा द्वारा प्रस्तुत बजट विकास की गति को तेज करेगा । उन्होंने वित्तमंत्री एवं उनके सहयोगी अधिकारियों को संतुलित बजट प्रस्तुत करने पर बधाई देते हुए कहा "
     ]
    }
   ],
   "source": [
    "for i in hindi[0:500]:\n",
    "    print(i,sep = ' ',end= ' ')"
   ]
  },
  {
   "cell_type": "code",
   "execution_count": 8,
   "metadata": {},
   "outputs": [],
   "source": [
    "a = \"\"\"Artificial intelligence (AI) is the simulation of human intelligence processes by machines, \n",
    "especially computer systems. These processes include learning (the acquisition of information and rules \n",
    "for using the information), reasoning (using rules to reach approximate or definite conclusions) and \n",
    "self-correction. Particular applications of AI include expert systems, \n",
    "speech recognition and machine vision.AI can be categorized as either weak or strong. Weak AI, also known as \n",
    "narrow AI, is an AI system that is designed and trained for a particular task. Virtual personal assistants,\n",
    "such as Apple's Siri, are a form of weak AI. Strong AI, also known as artificial general intelligence, is an \n",
    "AI system with generalized human cognitive abilities. When presented with an unfamiliar task,\n",
    "a strong AI system is able to find a solution without human intervention.Because hardware, software and staffing costs \n",
    "for AI can be expensive, many vendors are including AI components in their standard offerings \"\"\""
   ]
  },
  {
   "cell_type": "code",
   "execution_count": 9,
   "metadata": {},
   "outputs": [
    {
     "name": "stdout",
     "output_type": "stream",
     "text": [
      "<class 'str'>\n",
      "Artificial intelligence (AI) is the simulation of human intelligence processes by machines, \n",
      "especially computer systems. These processes include learning (the acquisition of information and rules \n",
      "for using the information), reasoning (using rules to reach approximate or definite conclusions) and \n",
      "self-correction. Particular applications of AI include expert systems, \n",
      "speech recognition and machine vision.AI can be categorized as either weak or strong. Weak AI, also known as \n",
      "narrow AI, is an AI system that is designed and trained for a particular task. Virtual personal assistants,\n",
      "such as Apple's Siri, are a form of weak AI. Strong AI, also known as artificial general intelligence, is an \n",
      "AI system with generalized human cognitive abilities. When presented with an unfamiliar task,\n",
      "a strong AI system is able to find a solution without human intervention.Because hardware, software and staffing costs \n",
      "for AI can be expensive, many vendors are including AI components in their standard offerings \n"
     ]
    }
   ],
   "source": [
    "print(type(a))\n",
    "print(a)\n"
   ]
  },
  {
   "cell_type": "markdown",
   "metadata": {},
   "source": [
    "#### Tokenize"
   ]
  },
  {
   "cell_type": "code",
   "execution_count": 10,
   "metadata": {},
   "outputs": [
    {
     "name": "stdout",
     "output_type": "stream",
     "text": [
      "['Artificial intelligence (AI) is the simulation of human intelligence processes by machines, \\nespecially computer systems.', 'These processes include learning (the acquisition of information and rules \\nfor using the information), reasoning (using rules to reach approximate or definite conclusions) and \\nself-correction.', 'Particular applications of AI include expert systems, \\nspeech recognition and machine vision.AI can be categorized as either weak or strong.', 'Weak AI, also known as \\nnarrow AI, is an AI system that is designed and trained for a particular task.', \"Virtual personal assistants,\\nsuch as Apple's Siri, are a form of weak AI.\", 'Strong AI, also known as artificial general intelligence, is an \\nAI system with generalized human cognitive abilities.', 'When presented with an unfamiliar task,\\na strong AI system is able to find a solution without human intervention.Because hardware, software and staffing costs \\nfor AI can be expensive, many vendors are including AI components in their standard offerings']\n"
     ]
    }
   ],
   "source": [
    "from nltk.tokenize import word_tokenize, sent_tokenize\n",
    "a_tokens = word_tokenize(a)\n",
    "a_sent_tokens = sent_tokenize(a)\n",
    "print(a_sent_tokens)"
   ]
  },
  {
   "cell_type": "code",
   "execution_count": 11,
   "metadata": {},
   "outputs": [
    {
     "data": {
      "text/plain": [
       "174"
      ]
     },
     "execution_count": 11,
     "metadata": {},
     "output_type": "execute_result"
    }
   ],
   "source": [
    "len(a_tokens)"
   ]
  },
  {
   "cell_type": "markdown",
   "metadata": {},
   "source": [
    "#### Frequency Distribution"
   ]
  },
  {
   "cell_type": "code",
   "execution_count": 12,
   "metadata": {},
   "outputs": [],
   "source": [
    "from nltk.probability import FreqDist\n"
   ]
  },
  {
   "cell_type": "code",
   "execution_count": 13,
   "metadata": {},
   "outputs": [
    {
     "data": {
      "text/plain": [
       "FreqDist({',': 12, 'ai': 11, '.': 6, 'is': 5, 'and': 5, 'of': 4, 'as': 4, 'a': 4, 'intelligence': 3, '(': 3, ...})"
      ]
     },
     "execution_count": 13,
     "metadata": {},
     "output_type": "execute_result"
    }
   ],
   "source": [
    "fdist = FreqDist()\n",
    "for i in a_tokens:\n",
    "    fdist[i.lower()]+=1\n",
    "fdist"
   ]
  },
  {
   "cell_type": "code",
   "execution_count": 14,
   "metadata": {},
   "outputs": [
    {
     "data": {
      "image/png": "[encoded data removed]",
      "text/plain": [
       "<Figure size 1296x360 with 1 Axes>"
      ]
     },
     "metadata": {
      "needs_background": "light"
     },
     "output_type": "display_data"
    },
    {
     "data": {
      "text/plain": [
       "<matplotlib.axes._subplots.AxesSubplot at 0x1e9d687dcc8>"
      ]
     },
     "execution_count": 14,
     "metadata": {},
     "output_type": "execute_result"
    }
   ],
   "source": [
    "plt.figure(figsize=(18,5))\n",
    "plt.xticks(rotation = 30,size=12)\n",
    "fdist.plot()"
   ]
  },
  {
   "cell_type": "code",
   "execution_count": 15,
   "metadata": {},
   "outputs": [
    {
     "data": {
      "text/plain": [
       "[(',', 12),\n",
       " ('ai', 11),\n",
       " ('.', 6),\n",
       " ('is', 5),\n",
       " ('and', 5),\n",
       " ('of', 4),\n",
       " ('as', 4),\n",
       " ('a', 4),\n",
       " ('intelligence', 3),\n",
       " ('(', 3),\n",
       " (')', 3),\n",
       " ('the', 3)]"
      ]
     },
     "execution_count": 15,
     "metadata": {},
     "output_type": "execute_result"
    }
   ],
   "source": [
    "fdist.most_common()[:12]"
   ]
  },
  {
   "cell_type": "code",
   "execution_count": 16,
   "metadata": {},
   "outputs": [
    {
     "name": "stdout",
     "output_type": "stream",
     "text": [
      "['artificial', 'intelligence', '(', 'ai', ')', 'is', 'the', 'simulation', 'of', 'human', 'processes', 'by', 'machines', ',', 'especially', 'computer', 'systems', '.', 'these', 'include', 'learning', 'acquisition', 'information', 'and', 'rules', 'for', 'using', 'reasoning', 'to', 'reach', 'approximate', 'or', 'definite', 'conclusions', 'self-correction', 'particular', 'applications', 'expert', 'speech', 'recognition', 'machine', 'vision.ai', 'can', 'be', 'categorized', 'as', 'either', 'weak', 'strong', 'also', 'known', 'narrow', 'an', 'system', 'that', 'designed', 'trained', 'a', 'task', 'virtual', 'personal', 'assistants', 'such', 'apple', \"'s\", 'siri', 'are', 'form', 'general', 'with', 'generalized', 'cognitive', 'abilities', 'when', 'presented', 'unfamiliar', 'able', 'find', 'solution', 'without', 'intervention.because', 'hardware', 'software', 'staffing', 'costs', 'expensive', 'many', 'vendors', 'including', 'components', 'in', 'their', 'standard', 'offerings']\n"
     ]
    },
    {
     "data": {
      "text/plain": [
       "11"
      ]
     },
     "execution_count": 16,
     "metadata": {},
     "output_type": "execute_result"
    }
   ],
   "source": [
    "print(list(fdist.keys()))\n",
    "fdist['ai']\n"
   ]
  },
  {
   "cell_type": "markdown",
   "metadata": {},
   "source": [
    "#### Stopwords"
   ]
  },
  {
   "cell_type": "code",
   "execution_count": 17,
   "metadata": {},
   "outputs": [],
   "source": [
    "from nltk.corpus import stopwords"
   ]
  },
  {
   "cell_type": "code",
   "execution_count": 18,
   "metadata": {},
   "outputs": [
    {
     "name": "stdout",
     "output_type": "stream",
     "text": [
      "['i', 'me', 'my', 'myself', 'we', 'our', 'ours', 'ourselves', 'you', \"you're\", \"you've\", \"you'll\", \"you'd\", 'your', 'yours', 'yourself', 'yourselves', 'he', 'him', 'his', 'himself', 'she', \"she's\", 'her', 'hers', 'herself', 'it', \"it's\", 'its', 'itself', 'they', 'them', 'their', 'theirs', 'themselves', 'what', 'which', 'who', 'whom', 'this', 'that', \"that'll\", 'these', 'those', 'am', 'is', 'are', 'was', 'were', 'be', 'been', 'being', 'have', 'has', 'had', 'having', 'do', 'does', 'did', 'doing', 'a', 'an', 'the', 'and', 'but', 'if', 'or', 'because', 'as', 'until', 'while', 'of', 'at', 'by', 'for', 'with', 'about', 'against', 'between', 'into', 'through', 'during', 'before', 'after', 'above', 'below', 'to', 'from', 'up', 'down', 'in', 'out', 'on', 'off', 'over', 'under', 'again', 'further', 'then', 'once', 'here', 'there', 'when', 'where', 'why', 'how', 'all', 'any', 'both', 'each', 'few', 'more', 'most', 'other', 'some', 'such', 'no', 'nor', 'not', 'only', 'own', 'same', 'so', 'than', 'too', 'very', 's', 't', 'can', 'will', 'just', 'don', \"don't\", 'should', \"should've\", 'now', 'd', 'll', 'm', 'o', 're', 've', 'y', 'ain', 'aren', \"aren't\", 'couldn', \"couldn't\", 'didn', \"didn't\", 'doesn', \"doesn't\", 'hadn', \"hadn't\", 'hasn', \"hasn't\", 'haven', \"haven't\", 'isn', \"isn't\", 'ma', 'mightn', \"mightn't\", 'mustn', \"mustn't\", 'needn', \"needn't\", 'shan', \"shan't\", 'shouldn', \"shouldn't\", 'wasn', \"wasn't\", 'weren', \"weren't\", 'won', \"won't\", 'wouldn', \"wouldn't\"]\n",
      "179\n",
      "126\n",
      "['Artificial', 'intelligence', '(', 'AI', ')', 'simulation', 'human', 'intelligence', 'processes', 'machines', ',', 'especially', 'computer', 'systems', '.', 'These', 'processes', 'include', 'learning', '(', 'acquisition', 'information', 'rules', 'using', 'information', ')', ',', 'reasoning', '(', 'using', 'rules', 'reach', 'approximate', 'definite', 'conclusions', ')', 'self-correction', '.', 'Particular', 'applications', 'AI', 'include', 'expert', 'systems', ',', 'speech', 'recognition', 'machine', 'vision.AI', 'categorized', 'either', 'weak', 'strong', '.', 'Weak', 'AI', ',', 'also', 'known', 'narrow', 'AI', ',', 'AI', 'system', 'designed', 'trained', 'particular', 'task', '.', 'Virtual', 'personal', 'assistants', ',', 'Apple', \"'s\", 'Siri', ',', 'form', 'weak', 'AI', '.', 'Strong', 'AI', ',', 'also', 'known', 'artificial', 'general', 'intelligence', ',', 'AI', 'system', 'generalized', 'human', 'cognitive', 'abilities', '.', 'When', 'presented', 'unfamiliar', 'task', ',', 'strong', 'AI', 'system', 'able', 'find', 'solution', 'without', 'human', 'intervention.Because', 'hardware', ',', 'software', 'staffing', 'costs', 'AI', 'expensive', ',', 'many', 'vendors', 'including', 'AI', 'components', 'standard', 'offerings']\n"
     ]
    },
    {
     "data": {
      "text/plain": [
       "\"Artificial intelligence ( AI ) simulation human intelligence processes machines , especially computer systems . These processes include learning ( acquisition information rules using information ) , reasoning ( using rules reach approximate definite conclusions ) self-correction . Particular applications AI include expert systems , speech recognition machine vision.AI categorized either weak strong . Weak AI , also known narrow AI , AI system designed trained particular task . Virtual personal assistants , Apple 's Siri , form weak AI . Strong AI , also known artificial general intelligence , AI system generalized human cognitive abilities . When presented unfamiliar task , strong AI system able find solution without human intervention.Because hardware , software staffing costs AI expensive , many vendors including AI components standard offerings\""
      ]
     },
     "execution_count": 18,
     "metadata": {},
     "output_type": "execute_result"
    }
   ],
   "source": [
    "print(stopwords.words('english'))\n",
    "print(len(stopwords.words('english')))\n",
    "\n",
    "stop_words = set(stopwords.words('english'))\n",
    "\n",
    "filtered_tokens=[]\n",
    "for w in a_tokens:\n",
    "    if w not in stop_words:\n",
    "        filtered_tokens.append(w)\n",
    "print(len(filtered_tokens))\n",
    "print(filtered_tokens)\n",
    "filtered_corpus = ' '.join(filtered_tokens)\n",
    "filtered_corpus"
   ]
  },
  {
   "cell_type": "markdown",
   "metadata": {},
   "source": [
    "#### Stemming"
   ]
  },
  {
   "cell_type": "code",
   "execution_count": 19,
   "metadata": {},
   "outputs": [],
   "source": [
    "from nltk.stem import PorterStemmer\n",
    "from nltk.stem.snowball import EnglishStemmer # Better than Porter Stemmer for practical use"
   ]
  },
  {
   "cell_type": "code",
   "execution_count": 20,
   "metadata": {},
   "outputs": [
    {
     "name": "stdout",
     "output_type": "stream",
     "text": [
      "sex\n",
      "sexi\n",
      "sexili\n",
      "sext\n",
      "sext\n",
      "sexa\n"
     ]
    }
   ],
   "source": [
    "# ps = PorterStemmer()\n",
    "ps = EnglishStemmer()\n",
    "s_words= ['sex','sexy','sexily','sexting','sext','sexa']\n",
    "for w in s_words:\n",
    "    print(ps.stem(w))"
   ]
  },
  {
   "cell_type": "code",
   "execution_count": 21,
   "metadata": {},
   "outputs": [
    {
     "name": "stdout",
     "output_type": "stream",
     "text": [
      "Before Stemming:  ['This', 'heavenly', 'place', '.', 'Heaven', 'good', 'song', 'heaven', '.', 'A', 'stun', 'gun', 'used', 'stun', 'people', 'stunned', '.', 'It', 'stunning']\n",
      "After Stemming:  ['this', 'heaven', 'place', '.', 'heaven', 'good', 'song', 'heaven', '.', 'a', 'stun', 'gun', 'use', 'stun', 'peopl', 'stun', '.', 'it', 'stun']\n"
     ]
    }
   ],
   "source": [
    "new_text = '''This is a heavenly place. Heaven is a good song about heaven. A stun gun was used to stun\n",
    "people and they were stunned. It was stunning'''\n",
    "\n",
    "new_token = word_tokenize(new_text)\n",
    "new_token2 = []\n",
    "\n",
    "for w in new_token:\n",
    "    if w not in stop_words:\n",
    "        new_token2.append(w)\n",
    "        \n",
    "print('Before Stemming: ', new_token2)\n",
    "\n",
    "stem_words=[]\n",
    "for w in new_token2:\n",
    "    stem_words.append(ps.stem(w))\n",
    "\n",
    "print('After Stemming: ',stem_words)"
   ]
  },
  {
   "cell_type": "markdown",
   "metadata": {},
   "source": [
    "#### Part of Speech Tagging"
   ]
  },
  {
   "cell_type": "code",
   "execution_count": 165,
   "metadata": {},
   "outputs": [
    {
     "name": "stdout",
     "output_type": "stream",
     "text": [
      "[('This', 'DT'), ('is', 'VBZ'), ('a', 'DT'), ('sample', 'JJ'), ('text', 'NN'), ('.', '.'), ('It', 'PRP'), ('will', 'MD'), ('show', 'VB'), ('you', 'PRP'), ('part', 'NN'), ('of', 'IN'), ('speech', 'NN'), ('tagging', 'VBG'), ('concept', 'NN'), ('.', '.'), ('And', 'CC'), ('also', 'RB'), ('show', 'VB'), ('you', 'PRP'), ('all', 'PDT'), ('the', 'DT'), ('different', 'JJ'), ('nouns', 'NNS'), (',', ','), ('adjectives', 'NNS'), ('etc', 'VBP'), ('in', 'IN'), ('the', 'DT'), ('sentence', 'NN'), ('.', '.')]\n"
     ]
    }
   ],
   "source": [
    "example_text = 'This is a sample text. It will show you part of speech tagging concept. And also show you all the different nouns, adjectives etc in the sentence.'\n",
    "\n",
    "a_tokens = word_tokenize(example_text)\n",
    "a  = nltk.pos_tag(a_tokens)\n",
    "print(a)"
   ]
  },
  {
   "cell_type": "code",
   "execution_count": 23,
   "metadata": {},
   "outputs": [],
   "source": [
    "from nltk.tokenize import PunktSentenceTokenizer"
   ]
  },
  {
   "cell_type": "code",
   "execution_count": 24,
   "metadata": {},
   "outputs": [
    {
     "name": "stdout",
     "output_type": "stream",
     "text": [
      "[('White', 'NNP'), ('House', 'NNP'), ('photo', 'NN'), ('by', 'IN'), ('Eric', 'NNP'), ('DraperEvery', 'NNP'), ('time', 'NN'), ('I', 'PRP'), (\"'m\", 'VBP'), ('invited', 'JJ'), ('to', 'TO'), ('this', 'DT'), ('rostrum', 'NN'), (',', ','), ('I', 'PRP'), (\"'m\", 'VBP'), ('humbled', 'VBN'), ('by', 'IN'), ('the', 'DT'), ('privilege', 'NN'), (',', ','), ('and', 'CC'), ('mindful', 'NN'), ('of', 'IN'), ('the', 'DT'), ('history', 'NN'), ('we', 'PRP'), (\"'ve\", 'VBP'), ('seen', 'VBN'), ('together', 'RB'), ('.', '.')]\n"
     ]
    }
   ],
   "source": [
    "\n",
    "s_union_lib = nltk.corpus.state_union\n",
    "s_union_lib.fileids()\n",
    "train_text = s_union_lib.raw('2005-GWBush.txt')\n",
    "sample_text = s_union_lib.raw('2006-GWBush.txt')\n",
    "\n",
    "custom_sent_tokenizer = PunktSentenceTokenizer(train_text)# Normal sent_tokenizer can also be used. \n",
    "tokenized = custom_sent_tokenizer.tokenize(sample_text) # sent_tokenizer is derived from PunktSentenceTokenizer\n",
    "\n",
    "# tagged = [nltk.pos_tag(word_tokenize(w)) for w in tokenized]\n",
    "# print(tagged)\n",
    "\n",
    "tagged=[]\n",
    "for w in tokenized: # Does the same thing as above commented line\n",
    "    words = word_tokenize(w)\n",
    "    tagged.append(nltk.pos_tag(words))\n",
    "#     print(tagged)\n",
    "print(tagged[6])"
   ]
  },
  {
   "cell_type": "markdown",
   "metadata": {},
   "source": [
    "#### Chunking and Chinking\n",
    " Chunking is used for grouping elements together.(Eg: White House, The United States of America)"
   ]
  },
  {
   "cell_type": "code",
   "execution_count": 25,
   "metadata": {},
   "outputs": [],
   "source": [
    "chunkGram = r\"\"\"Chunk: {<PRP><VBP><.*>+<NN>} \n",
    "                        }<JJ>|<IN>{\"\"\" #  Everything in {} is chunked(grouped together). Everything in }{ is chinked(excluded)\n",
    "chunkParser = nltk.RegexpParser(chunkGram)\n",
    "chunked = chunkParser.parse(tagged[6]).draw()"
   ]
  },
  {
   "cell_type": "markdown",
   "metadata": {},
   "source": [
    "#### Named Entity Recognition"
   ]
  },
  {
   "cell_type": "code",
   "execution_count": 26,
   "metadata": {},
   "outputs": [],
   "source": [
    "#  namedEnt = nltk.ne_chunk(tagged[0],binary=True) \n",
    "namedEnt = nltk.ne_chunk(tagged[0])# binary=False categorizes into different named entities\n",
    "namedEnt.draw()"
   ]
  },
  {
   "cell_type": "markdown",
   "metadata": {},
   "source": [
    "#### Leammatizing"
   ]
  },
  {
   "cell_type": "code",
   "execution_count": 27,
   "metadata": {},
   "outputs": [],
   "source": [
    "from nltk.stem import WordNetLemmatizer"
   ]
  },
  {
   "cell_type": "code",
   "execution_count": 28,
   "metadata": {},
   "outputs": [
    {
     "name": "stdout",
     "output_type": "stream",
     "text": [
      "better\n",
      "good\n",
      "foot\n",
      "running\n",
      "run\n"
     ]
    }
   ],
   "source": [
    "l = WordNetLemmatizer()\n",
    "print(l.lemmatize('better'))#By default pos='n' (Noun)\n",
    "print(l.lemmatize('better',pos='a'))\n",
    "print(l.lemmatize('feet'))\n",
    "print(l.lemmatize('running'))\n",
    "print(l.lemmatize('running',pos='v'))"
   ]
  },
  {
   "cell_type": "code",
   "execution_count": 29,
   "metadata": {},
   "outputs": [
    {
     "name": "stdout",
     "output_type": "stream",
     "text": [
      "['This', 'is', 'a', 'heavenly', 'place', '.', 'Heaven', 'is', 'a', 'good', 'song', 'about', 'heaven', '.', 'A', 'stun', 'gun', 'wa', 'used', 'to', 'stun', 'people', 'and', 'they', 'were', 'stunned', '.', 'It', 'wa', 'stunning']\n"
     ]
    }
   ],
   "source": [
    "example_text = '''This is a heavenly place. Heaven is a good song about heaven. A stun gun was used to stun\n",
    "people and they were stunned. It was stunning'''\n",
    "t = word_tokenize(example_text)\n",
    "print ([l.lemmatize(w) for w in t])"
   ]
  },
  {
   "cell_type": "markdown",
   "metadata": {},
   "source": [
    "#### NLTK Corpus"
   ]
  },
  {
   "cell_type": "code",
   "execution_count": 30,
   "metadata": {},
   "outputs": [
    {
     "data": {
      "text/plain": [
       "('cntlist.rev',\n",
       " 'lexnames',\n",
       " 'index.sense',\n",
       " 'index.adj',\n",
       " 'index.adv',\n",
       " 'index.noun',\n",
       " 'index.verb',\n",
       " 'data.adj',\n",
       " 'data.adv',\n",
       " 'data.noun',\n",
       " 'data.verb',\n",
       " 'adj.exc',\n",
       " 'adv.exc',\n",
       " 'noun.exc',\n",
       " 'verb.exc')"
      ]
     },
     "execution_count": 30,
     "metadata": {},
     "output_type": "execute_result"
    }
   ],
   "source": [
    "nltk.corpus.wordnet.fileids()"
   ]
  },
  {
   "cell_type": "markdown",
   "metadata": {},
   "source": [
    "#### WordNet "
   ]
  },
  {
   "cell_type": "code",
   "execution_count": 31,
   "metadata": {},
   "outputs": [],
   "source": [
    "wd = nltk.corpus.wordnet"
   ]
  },
  {
   "cell_type": "code",
   "execution_count": 144,
   "metadata": {},
   "outputs": [
    {
     "name": "stdout",
     "output_type": "stream",
     "text": [
      "[Synset('bad.n.01'), Synset('bad.a.01'), Synset('bad.s.02'), Synset('bad.s.03'), Synset('bad.s.04'), Synset('regretful.a.01'), Synset('bad.s.06'), Synset('bad.s.07'), Synset('bad.s.08'), Synset('bad.s.09'), Synset('bad.s.10'), Synset('bad.s.11'), Synset('bad.s.12'), Synset('bad.s.13'), Synset('bad.s.14'), Synset('badly.r.05'), Synset('badly.r.06')]\n",
      "\n",
      " Synset('bad.s.10')\n",
      "\n",
      " test.n.02\n"
     ]
    }
   ],
   "source": [
    "print(wd.synsets('bad'))# Stores synonyms of given word in a list\n",
    "print('\\n',wd.synsets('bad')[10])\n",
    "print('\\n',wd.synsets('test')[1].name())"
   ]
  },
  {
   "cell_type": "code",
   "execution_count": 190,
   "metadata": {},
   "outputs": [
    {
     "data": {
      "text/plain": [
       "[Lemma('unhappy.a.01.unhappy')]"
      ]
     },
     "execution_count": 190,
     "metadata": {},
     "output_type": "execute_result"
    }
   ],
   "source": [
    "wd.synsets('happy')[0].lemmas()[0].antonyms()"
   ]
  },
  {
   "cell_type": "code",
   "execution_count": 149,
   "metadata": {},
   "outputs": [
    {
     "name": "stdout",
     "output_type": "stream",
     "text": [
      "[Synset('test.v.01'), Synset('screen.v.01'), Synset('quiz.v.01'), Synset('test.v.04'), Synset('test.v.05'), Synset('test.v.06'), Synset('test.v.07')]\n",
      "[Synset('trial.n.02'), Synset('test.n.02'), Synset('examination.n.02'), Synset('test.n.04'), Synset('test.n.05'), Synset('test.n.06')]\n"
     ]
    }
   ],
   "source": [
    "print(wd.synsets('test',pos='v'))\n",
    "print(wd.synsets('test',pos='n'))"
   ]
  },
  {
   "cell_type": "code",
   "execution_count": 178,
   "metadata": {},
   "outputs": [
    {
     "name": "stdout",
     "output_type": "stream",
     "text": [
      "Synset('talk.n.01')  :  an exchange of ideas via conversation\n",
      "Synset('talk.n.02')  :  discussion; (`talk about' is a less formal alternative for `discussion of')\n",
      "Synset('talk.n.03')  :  the act of giving a talk to an audience\n",
      "Synset('lecture.n.01')  :  a speech that is open to the public\n",
      "Synset('talk.n.05')  :  idle gossip or rumor\n",
      "Synset('talk.v.01')  :  exchange thoughts; talk with\n",
      "Synset('talk.v.02')  :  express in speech\n",
      "Synset('speak.v.03')  :  use language\n",
      "Synset('spill.v.05')  :  reveal information\n",
      "Synset('spill_the_beans.v.01')  :  divulge confidential information or secrets\n",
      "Synset('lecture.v.01')  :  deliver a lecture or talk\n"
     ]
    }
   ],
   "source": [
    "for i in wd.synsets('talk'):    \n",
    "    print(i,' : ',i.definition())"
   ]
  },
  {
   "cell_type": "code",
   "execution_count": 234,
   "metadata": {},
   "outputs": [
    {
     "name": "stdout",
     "output_type": "stream",
     "text": [
      "[Synset('teach.n.01'), Synset('teach.v.01'), Synset('teach.v.02')]\n",
      "[Lemma('teach.v.01.teach'), Lemma('teach.v.01.learn'), Lemma('teach.v.01.instruct')]\n",
      "impart skills or knowledge to\n",
      "['I taught them French', 'He instructed me in building a boat']\n"
     ]
    }
   ],
   "source": [
    "text='teach'\n",
    "i=1\n",
    "print(wd.synsets(text))\n",
    "print(wd.synsets(text)[i].lemmas())\n",
    "print(wd.synsets(text)[i].definition())\n",
    "print(wd.synsets(text)[i].examples())"
   ]
  },
  {
   "cell_type": "code",
   "execution_count": 264,
   "metadata": {},
   "outputs": [
    {
     "name": "stdout",
     "output_type": "stream",
     "text": [
      "[Synset('state.v.01'), Synset('allege.v.01'), Synset('suppose.v.01'), Synset('read.v.02'), Synset('order.v.01'), Synset('pronounce.v.01'), Synset('say.v.07'), Synset('say.v.08'), Synset('say.v.09'), Synset('say.v.10'), Synset('say.v.11')]\n",
      "Synset('state.v.01')\n",
      "[Lemma('state.v.01.state'), Lemma('state.v.01.say'), Lemma('state.v.01.tell')]\n",
      "['state', 'say', 'tell']\n",
      "state\n",
      "v\n",
      "express in words\n",
      "['He said that he wanted to marry her', 'tell me what is bothering you', 'state your opinion', 'state your name']\n"
     ]
    }
   ],
   "source": [
    "text='say'\n",
    "pos = 'v'\n",
    "i=0\n",
    "print(wd.synsets(text,pos=pos))\n",
    "print(wd.synsets(text,pos=pos)[i])\n",
    "print(wd.synsets(text,pos=pos)[i].lemmas())\n",
    "print(wd.synsets(text,pos=pos)[i].lemma_names())\n",
    "print(wd.synsets(text,pos=pos)[i].lemmas()[0].name())\n",
    "print(wd.synsets(text,pos=pos)[i].pos())\n",
    "print(wd.synsets(text,pos=pos)[i].definition())\n",
    "print(wd.synsets(text,pos=pos)[i].examples())"
   ]
  },
  {
   "cell_type": "markdown",
   "metadata": {},
   "source": [
    "Finding all synosyms and antonyms of a word"
   ]
  },
  {
   "cell_type": "code",
   "execution_count": 261,
   "metadata": {},
   "outputs": [
    {
     "name": "stdout",
     "output_type": "stream",
     "text": [
      "Synonyms of good are :  {'adept', 'honest', 'beneficial', 'dear', 'thoroughly', 'salutary', 'estimable', 'skilful', 'just', 'practiced', 'good', 'undecomposed', 'proficient', 'goodness', 'full', 'respectable', 'right', 'trade_good', 'near', 'effective', 'well', 'unspoilt', 'in_effect', 'expert', 'serious', 'safe', 'soundly', 'ripe', 'sound', 'dependable', 'in_force', 'honorable', 'commodity', 'unspoiled', 'upright', 'skillful', 'secure'}\n",
      "\n",
      "Antoynms of good are :  {'ill', 'badness', 'evilness', 'bad', 'evil'}\n"
     ]
    },
    {
     "data": {
      "text/plain": [
       "65"
      ]
     },
     "execution_count": 261,
     "metadata": {},
     "output_type": "execute_result"
    }
   ],
   "source": [
    "text = 'good'\n",
    "synonyms=[]\n",
    "antonyms=[]\n",
    "for i in wd.synsets(text):\n",
    "    for l in i.lemmas():\n",
    "        synonyms.append(l.name())\n",
    "        if l.antonyms():\n",
    "#             print(l.antonyms())\n",
    "            antonyms.append(l.antonyms()[0].name())\n",
    "print('Synonyms of %s are : '%text,set(synonyms))\n",
    "print('\\nAntoynms of %s are : '%text,set(antonyms))\n",
    "len(synonyms)"
   ]
  },
  {
   "cell_type": "markdown",
   "metadata": {},
   "source": [
    "Hypernyms and Hyponyms  \n",
    "Hypernym : generic term of a word. Eg: Mammal is a hypernym for cat.  \n",
    "Hyponym: specific term for a word. Eg: Tiger is a hyponym of cat."
   ]
  },
  {
   "cell_type": "code",
   "execution_count": 272,
   "metadata": {},
   "outputs": [
    {
     "name": "stdout",
     "output_type": "stream",
     "text": [
      "Hyponyms :  [Synset('domestic_cat.n.01'), Synset('wildcat.n.03')]\n",
      "\n",
      "Hypernyms :  [Synset('feline.n.01')]\n"
     ]
    }
   ],
   "source": [
    "w1 = wd.synset('cat.n.01')\n",
    "print('Hyponyms : ', w1.hyponyms())\n",
    "print('\\nHypernyms : ', w1.hypernyms())"
   ]
  },
  {
   "cell_type": "markdown",
   "metadata": {},
   "source": [
    "Similarity using wup_similarity"
   ]
  },
  {
   "cell_type": "code",
   "execution_count": 269,
   "metadata": {},
   "outputs": [
    {
     "name": "stdout",
     "output_type": "stream",
     "text": [
      "0.8571428571428571\n",
      "0.2\n"
     ]
    }
   ],
   "source": [
    "w1 = wd.synsets('cat')[0]\n",
    "w2 = wd.synsets('dog')[0]\n",
    "print(w1.wup_similarity(w2))# Better method and uses formula = (2 * depth(lcs(w1,w2)/(depth(w1)+depth(w2))) Where depth is path from the root and lcs is the common hypernym.\n",
    "print(w1.path_similarity(w2))"
   ]
  },
  {
   "cell_type": "code",
   "execution_count": 273,
   "metadata": {},
   "outputs": [
    {
     "data": {
      "text/plain": [
       "[Lemma('kitty.n.04.kitty'),\n",
       " Lemma('kitty.n.04.kitty-cat'),\n",
       " Lemma('kitty.n.04.puss'),\n",
       " Lemma('kitty.n.04.pussy'),\n",
       " Lemma('kitty.n.04.pussycat')]"
      ]
     },
     "execution_count": 273,
     "metadata": {},
     "output_type": "execute_result"
    }
   ],
   "source": [
    "w1.hyponyms()[0].hyponyms()[].lemmas()"
   ]
  },
  {
   "cell_type": "code",
   "execution_count": 127,
   "metadata": {},
   "outputs": [
    {
     "name": "stdout",
     "output_type": "stream",
     "text": [
      "[('I', 'PRP'), ('need', 'VBP'), ('that', 'DT'), ('cake', 'VB'), ('right', 'RB'), ('now', 'RB')]\n",
      "\n",
      "Original Text :  I need that cake right now\n",
      "New Text :  I ask that cake right now\n"
     ]
    }
   ],
   "source": [
    "ex_text='I need that cake right now'\n",
    "tokens = word_tokenize(ex_text)\n",
    "pos = nltk.pos_tag(tokens)\n",
    "print(pos)\n",
    "new_text = []\n",
    "for i,w in enumerate(tokens):\n",
    "    if re.search('RB.*?',pos[i][1]):\n",
    "        try:\n",
    "            new_text.append(wd.synsets(w,pos='r')[0].lemmas()[1].name())\n",
    "        except:\n",
    "            new_text.append(wd.synsets(w,pos='r')[0].lemmas()[0].name())\n",
    "    elif re.search('VB.*?',pos[i][1]):\n",
    "        try:\n",
    "            new_text.append(wd.synsets(w,pos='v')[0].lemmas()[1].name())\n",
    "        except:\n",
    "            new_text.append(wd.synsets(w,pos='v')[0].lemmas()[0].name())\n",
    "    elif re.search('JJ.*?',pos[i][1]):\n",
    "        try:\n",
    "            new_text.append(wd.synsets(w,pos='a')[0].lemmas()[1].name())\n",
    "        except:\n",
    "            new_text.append(wd.synsets(w,pos='a')[0].lemmas()[0].name())\n",
    "    elif (pos[i][1]=='NN'):\n",
    "        try:\n",
    "            new_text.append(wd.synsets(w,pos='n')[0].lemmas()[1].name())\n",
    "        except:\n",
    "            try:\n",
    "                new_text.append(wd.synsets(w,pos='n')[0].lemmas()[0].name())\n",
    "            except:\n",
    "                new_text.append(w)\n",
    "    else:\n",
    "            new_text.append(w)\n",
    "\n",
    "new_text = ' '.join(new_text)\n",
    "print('\\nOriginal Text : ',ex_text)\n",
    "print('New Text : ', new_text)"
   ]
  },
  {
   "cell_type": "code",
   "execution_count": 128,
   "metadata": {},
   "outputs": [
    {
     "name": "stdout",
     "output_type": "stream",
     "text": [
      "Oh yeah\n"
     ]
    }
   ],
   "source": [
    "a = nltk.pos_tag(['eating','guy','eating'])\n",
    "if re.search('VB.*?',a[0][1]):\n",
    "    print('Oh yeah')"
   ]
  },
  {
   "cell_type": "code",
   "execution_count": 39,
   "metadata": {},
   "outputs": [
    {
     "data": {
      "text/plain": [
       "[('the', 'DT'), ('happiest', 'JJS'), ('boy', 'NN')]"
      ]
     },
     "execution_count": 39,
     "metadata": {},
     "output_type": "execute_result"
    }
   ],
   "source": [
    "nltk.pos_tag(['the','happiest','boy'])"
   ]
  },
  {
   "cell_type": "code",
   "execution_count": null,
   "metadata": {},
   "outputs": [],
   "source": []
  }
 ],
 "metadata": {
  "kernelspec": {
   "display_name": "Python 3",
   "language": "python",
   "name": "python3"
  },
  "language_info": {
   "codemirror_mode": {
    "name": "ipython",
    "version": 3
   },
   "file_extension": ".py",
   "mimetype": "text/x-python",
   "name": "python",
   "nbconvert_exporter": "python",
   "pygments_lexer": "ipython3",
   "version": "3.7.4"
  }
 },
 "nbformat": 4,
 "nbformat_minor": 2
}
